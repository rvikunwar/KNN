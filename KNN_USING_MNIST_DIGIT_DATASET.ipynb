{
  "nbformat": 4,
  "nbformat_minor": 0,
  "metadata": {
    "colab": {
      "name": "KNN USING MNIST_DIGIT_DATASET.ipynb",
      "provenance": [],
      "collapsed_sections": [],
      "authorship_tag": "ABX9TyOvT389JZfI2lzQe+QKsb3a",
      "include_colab_link": true
    },
    "kernelspec": {
      "name": "python3",
      "display_name": "Python 3"
    },
    "language_info": {
      "name": "python"
    }
  },
  "cells": [
    {
      "cell_type": "markdown",
      "metadata": {
        "id": "view-in-github",
        "colab_type": "text"
      },
      "source": [
        "<a href=\"https://colab.research.google.com/github/rvikunwar/KNN/blob/main/KNN_USING_MNIST_DIGIT_DATASET.ipynb\" target=\"_parent\"><img src=\"https://colab.research.google.com/assets/colab-badge.svg\" alt=\"Open In Colab\"/></a>"
      ]
    },
    {
      "cell_type": "code",
      "metadata": {
        "id": "v7Pi7ThpOr6U"
      },
      "source": [
        "import numpy as np\n",
        "import pandas as pd\n",
        "from sklearn.neighbors import KNeighborsClassifier\n",
        "from sklearn.model_selection import train_test_split\n",
        "from sklearn.metrics import confusion_matrix"
      ],
      "execution_count": 1,
      "outputs": []
    },
    {
      "cell_type": "code",
      "metadata": {
        "id": "l8a5lFJzPSl4"
      },
      "source": [
        "from sklearn.datasets import load_digits\n",
        "data=load_digits()"
      ],
      "execution_count": 5,
      "outputs": []
    },
    {
      "cell_type": "code",
      "metadata": {
        "colab": {
          "base_uri": "https://localhost:8080/"
        },
        "id": "yVbzzg6iPpM-",
        "outputId": "16dd5715-98b8-49b3-a260-9c64a8638571"
      },
      "source": [
        "print(data)"
      ],
      "execution_count": 6,
      "outputs": [
        {
          "output_type": "stream",
          "text": [
            "{'data': array([[ 0.,  0.,  5., ...,  0.,  0.,  0.],\n",
            "       [ 0.,  0.,  0., ..., 10.,  0.,  0.],\n",
            "       [ 0.,  0.,  0., ..., 16.,  9.,  0.],\n",
            "       ...,\n",
            "       [ 0.,  0.,  1., ...,  6.,  0.,  0.],\n",
            "       [ 0.,  0.,  2., ..., 12.,  0.,  0.],\n",
            "       [ 0.,  0., 10., ..., 12.,  1.,  0.]]), 'target': array([0, 1, 2, ..., 8, 9, 8]), 'target_names': array([0, 1, 2, 3, 4, 5, 6, 7, 8, 9]), 'images': array([[[ 0.,  0.,  5., ...,  1.,  0.,  0.],\n",
            "        [ 0.,  0., 13., ..., 15.,  5.,  0.],\n",
            "        [ 0.,  3., 15., ..., 11.,  8.,  0.],\n",
            "        ...,\n",
            "        [ 0.,  4., 11., ..., 12.,  7.,  0.],\n",
            "        [ 0.,  2., 14., ..., 12.,  0.,  0.],\n",
            "        [ 0.,  0.,  6., ...,  0.,  0.,  0.]],\n",
            "\n",
            "       [[ 0.,  0.,  0., ...,  5.,  0.,  0.],\n",
            "        [ 0.,  0.,  0., ...,  9.,  0.,  0.],\n",
            "        [ 0.,  0.,  3., ...,  6.,  0.,  0.],\n",
            "        ...,\n",
            "        [ 0.,  0.,  1., ...,  6.,  0.,  0.],\n",
            "        [ 0.,  0.,  1., ...,  6.,  0.,  0.],\n",
            "        [ 0.,  0.,  0., ..., 10.,  0.,  0.]],\n",
            "\n",
            "       [[ 0.,  0.,  0., ..., 12.,  0.,  0.],\n",
            "        [ 0.,  0.,  3., ..., 14.,  0.,  0.],\n",
            "        [ 0.,  0.,  8., ..., 16.,  0.,  0.],\n",
            "        ...,\n",
            "        [ 0.,  9., 16., ...,  0.,  0.,  0.],\n",
            "        [ 0.,  3., 13., ..., 11.,  5.,  0.],\n",
            "        [ 0.,  0.,  0., ..., 16.,  9.,  0.]],\n",
            "\n",
            "       ...,\n",
            "\n",
            "       [[ 0.,  0.,  1., ...,  1.,  0.,  0.],\n",
            "        [ 0.,  0., 13., ...,  2.,  1.,  0.],\n",
            "        [ 0.,  0., 16., ..., 16.,  5.,  0.],\n",
            "        ...,\n",
            "        [ 0.,  0., 16., ..., 15.,  0.,  0.],\n",
            "        [ 0.,  0., 15., ..., 16.,  0.,  0.],\n",
            "        [ 0.,  0.,  2., ...,  6.,  0.,  0.]],\n",
            "\n",
            "       [[ 0.,  0.,  2., ...,  0.,  0.,  0.],\n",
            "        [ 0.,  0., 14., ..., 15.,  1.,  0.],\n",
            "        [ 0.,  4., 16., ..., 16.,  7.,  0.],\n",
            "        ...,\n",
            "        [ 0.,  0.,  0., ..., 16.,  2.,  0.],\n",
            "        [ 0.,  0.,  4., ..., 16.,  2.,  0.],\n",
            "        [ 0.,  0.,  5., ..., 12.,  0.,  0.]],\n",
            "\n",
            "       [[ 0.,  0., 10., ...,  1.,  0.,  0.],\n",
            "        [ 0.,  2., 16., ...,  1.,  0.,  0.],\n",
            "        [ 0.,  0., 15., ..., 15.,  0.,  0.],\n",
            "        ...,\n",
            "        [ 0.,  4., 16., ..., 16.,  6.,  0.],\n",
            "        [ 0.,  8., 16., ..., 16.,  8.,  0.],\n",
            "        [ 0.,  1.,  8., ..., 12.,  1.,  0.]]]), 'DESCR': \".. _digits_dataset:\\n\\nOptical recognition of handwritten digits dataset\\n--------------------------------------------------\\n\\n**Data Set Characteristics:**\\n\\n    :Number of Instances: 5620\\n    :Number of Attributes: 64\\n    :Attribute Information: 8x8 image of integer pixels in the range 0..16.\\n    :Missing Attribute Values: None\\n    :Creator: E. Alpaydin (alpaydin '@' boun.edu.tr)\\n    :Date: July; 1998\\n\\nThis is a copy of the test set of the UCI ML hand-written digits datasets\\nhttps://archive.ics.uci.edu/ml/datasets/Optical+Recognition+of+Handwritten+Digits\\n\\nThe data set contains images of hand-written digits: 10 classes where\\neach class refers to a digit.\\n\\nPreprocessing programs made available by NIST were used to extract\\nnormalized bitmaps of handwritten digits from a preprinted form. From a\\ntotal of 43 people, 30 contributed to the training set and different 13\\nto the test set. 32x32 bitmaps are divided into nonoverlapping blocks of\\n4x4 and the number of on pixels are counted in each block. This generates\\nan input matrix of 8x8 where each element is an integer in the range\\n0..16. This reduces dimensionality and gives invariance to small\\ndistortions.\\n\\nFor info on NIST preprocessing routines, see M. D. Garris, J. L. Blue, G.\\nT. Candela, D. L. Dimmick, J. Geist, P. J. Grother, S. A. Janet, and C.\\nL. Wilson, NIST Form-Based Handprint Recognition System, NISTIR 5469,\\n1994.\\n\\n.. topic:: References\\n\\n  - C. Kaynak (1995) Methods of Combining Multiple Classifiers and Their\\n    Applications to Handwritten Digit Recognition, MSc Thesis, Institute of\\n    Graduate Studies in Science and Engineering, Bogazici University.\\n  - E. Alpaydin, C. Kaynak (1998) Cascading Classifiers, Kybernetika.\\n  - Ken Tang and Ponnuthurai N. Suganthan and Xi Yao and A. Kai Qin.\\n    Linear dimensionalityreduction using relevance weighted LDA. School of\\n    Electrical and Electronic Engineering Nanyang Technological University.\\n    2005.\\n  - Claudio Gentile. A New Approximate Maximal Margin Classification\\n    Algorithm. NIPS. 2000.\"}\n"
          ],
          "name": "stdout"
        }
      ]
    },
    {
      "cell_type": "code",
      "metadata": {
        "colab": {
          "base_uri": "https://localhost:8080/"
        },
        "id": "_8L1go_uP5E9",
        "outputId": "9ead6047-b210-43af-c06b-05755c648022"
      },
      "source": [
        "print(data.target)"
      ],
      "execution_count": 7,
      "outputs": [
        {
          "output_type": "stream",
          "text": [
            "[0 1 2 ... 8 9 8]\n"
          ],
          "name": "stdout"
        }
      ]
    },
    {
      "cell_type": "code",
      "metadata": {
        "id": "kJqyygqzQJsN"
      },
      "source": [
        "df=pd.DataFrame(np.c_[data.data,data.target])"
      ],
      "execution_count": 19,
      "outputs": []
    },
    {
      "cell_type": "code",
      "metadata": {
        "colab": {
          "base_uri": "https://localhost:8080/"
        },
        "id": "1BO4Bq6eQd64",
        "outputId": "782b69e9-16c3-4310-8b86-ad6b45eb6dfb"
      },
      "source": [
        "print(df)"
      ],
      "execution_count": 20,
      "outputs": [
        {
          "output_type": "stream",
          "text": [
            "       0    1     2     3     4     5   ...    59    60    61   62   63   64\n",
            "0     0.0  0.0   5.0  13.0   9.0   1.0  ...  13.0  10.0   0.0  0.0  0.0  0.0\n",
            "1     0.0  0.0   0.0  12.0  13.0   5.0  ...  11.0  16.0  10.0  0.0  0.0  1.0\n",
            "2     0.0  0.0   0.0   4.0  15.0  12.0  ...   3.0  11.0  16.0  9.0  0.0  2.0\n",
            "3     0.0  0.0   7.0  15.0  13.0   1.0  ...  13.0  13.0   9.0  0.0  0.0  3.0\n",
            "4     0.0  0.0   0.0   1.0  11.0   0.0  ...   2.0  16.0   4.0  0.0  0.0  4.0\n",
            "...   ...  ...   ...   ...   ...   ...  ...   ...   ...   ...  ...  ...  ...\n",
            "1792  0.0  0.0   4.0  10.0  13.0   6.0  ...  14.0  15.0   9.0  0.0  0.0  9.0\n",
            "1793  0.0  0.0   6.0  16.0  13.0  11.0  ...  16.0  14.0   6.0  0.0  0.0  0.0\n",
            "1794  0.0  0.0   1.0  11.0  15.0   1.0  ...   9.0  13.0   6.0  0.0  0.0  8.0\n",
            "1795  0.0  0.0   2.0  10.0   7.0   0.0  ...  12.0  16.0  12.0  0.0  0.0  9.0\n",
            "1796  0.0  0.0  10.0  14.0   8.0   1.0  ...  12.0  14.0  12.0  1.0  0.0  8.0\n",
            "\n",
            "[1797 rows x 65 columns]\n"
          ],
          "name": "stdout"
        }
      ]
    },
    {
      "cell_type": "code",
      "metadata": {
        "colab": {
          "base_uri": "https://localhost:8080/"
        },
        "id": "PoqMety_Qhvi",
        "outputId": "06016fbb-4451-4c89-d11a-aeebdb8959e8"
      },
      "source": [
        "df.shape"
      ],
      "execution_count": 21,
      "outputs": [
        {
          "output_type": "execute_result",
          "data": {
            "text/plain": [
              "(1797, 65)"
            ]
          },
          "metadata": {
            "tags": []
          },
          "execution_count": 21
        }
      ]
    },
    {
      "cell_type": "code",
      "metadata": {
        "id": "iNscpaaLRjYB"
      },
      "source": [
        "x,y=df.iloc[:,:-1],df.iloc[:,-1]"
      ],
      "execution_count": 22,
      "outputs": []
    },
    {
      "cell_type": "code",
      "metadata": {
        "id": "2JCpWlyhR9vd"
      },
      "source": [
        "x_train,x_test,y_train,y_test=train_test_split(x,y,test_size=0.2,random_state=2020)"
      ],
      "execution_count": 23,
      "outputs": []
    },
    {
      "cell_type": "code",
      "metadata": {
        "id": "KCNyWUOISKu7"
      },
      "source": [
        "classifier=KNeighborsClassifier(n_neighbors=10)"
      ],
      "execution_count": 44,
      "outputs": []
    },
    {
      "cell_type": "code",
      "metadata": {
        "colab": {
          "base_uri": "https://localhost:8080/"
        },
        "id": "spKArELsSTM2",
        "outputId": "52cd3a78-16bd-41fd-fa6f-8f0841351497"
      },
      "source": [
        "classifier.fit(x_train,y_train)"
      ],
      "execution_count": 45,
      "outputs": [
        {
          "output_type": "execute_result",
          "data": {
            "text/plain": [
              "KNeighborsClassifier(algorithm='auto', leaf_size=30, metric='minkowski',\n",
              "                     metric_params=None, n_jobs=None, n_neighbors=10, p=2,\n",
              "                     weights='uniform')"
            ]
          },
          "metadata": {
            "tags": []
          },
          "execution_count": 45
        }
      ]
    },
    {
      "cell_type": "code",
      "metadata": {
        "colab": {
          "base_uri": "https://localhost:8080/"
        },
        "id": "R2IEgwPwSaW8",
        "outputId": "978813aa-62bd-4b68-a701-5bbd77e488b9"
      },
      "source": [
        "classifier.score(x_test,y_test)"
      ],
      "execution_count": 46,
      "outputs": [
        {
          "output_type": "execute_result",
          "data": {
            "text/plain": [
              "0.9861111111111112"
            ]
          },
          "metadata": {
            "tags": []
          },
          "execution_count": 46
        }
      ]
    },
    {
      "cell_type": "code",
      "metadata": {
        "id": "xL49TR3uUGB7"
      },
      "source": [
        ""
      ],
      "execution_count": null,
      "outputs": []
    },
    {
      "cell_type": "code",
      "metadata": {
        "id": "4JDUSsUoSmcY"
      },
      "source": [
        "predict_data=classifier.predict(x_test)"
      ],
      "execution_count": 31,
      "outputs": []
    },
    {
      "cell_type": "code",
      "metadata": {
        "colab": {
          "base_uri": "https://localhost:8080/"
        },
        "id": "Y0QIpcHuS-i-",
        "outputId": "404023d1-2d7f-4be1-e737-4a3b0879dd10"
      },
      "source": [
        "print(predict_data)"
      ],
      "execution_count": 32,
      "outputs": [
        {
          "output_type": "stream",
          "text": [
            "[4. 3. 6. 4. 8. 7. 2. 2. 1. 2. 3. 8. 4. 2. 3. 7. 2. 1. 4. 5. 2. 9. 3. 7.\n",
            " 9. 2. 7. 4. 6. 4. 3. 3. 8. 5. 8. 8. 2. 1. 9. 8. 6. 7. 2. 5. 7. 0. 3. 3.\n",
            " 7. 8. 7. 1. 0. 3. 5. 7. 4. 0. 7. 3. 0. 4. 7. 5. 2. 4. 2. 1. 6. 1. 2. 1.\n",
            " 6. 2. 1. 4. 8. 2. 2. 8. 2. 1. 0. 7. 1. 5. 3. 7. 2. 4. 9. 5. 1. 6. 2. 4.\n",
            " 9. 3. 8. 7. 0. 2. 8. 8. 4. 6. 3. 3. 3. 4. 8. 0. 0. 7. 4. 9. 5. 8. 9. 7.\n",
            " 6. 6. 9. 4. 4. 8. 8. 3. 5. 3. 4. 1. 5. 0. 4. 6. 9. 2. 4. 6. 2. 1. 4. 5.\n",
            " 4. 5. 0. 4. 6. 6. 1. 1. 8. 7. 7. 3. 3. 2. 5. 0. 4. 1. 3. 8. 8. 0. 4. 7.\n",
            " 5. 6. 3. 8. 7. 6. 3. 7. 1. 7. 3. 4. 1. 7. 5. 7. 4. 5. 3. 9. 7. 3. 1. 5.\n",
            " 0. 5. 0. 0. 5. 9. 0. 0. 9. 1. 0. 3. 5. 4. 4. 9. 6. 6. 8. 2. 5. 6. 2. 6.\n",
            " 1. 2. 2. 6. 9. 1. 4. 6. 7. 9. 8. 0. 8. 4. 1. 6. 7. 2. 6. 1. 0. 4. 3. 1.\n",
            " 0. 2. 0. 3. 8. 7. 7. 4. 5. 1. 9. 9. 9. 2. 9. 9. 0. 1. 7. 0. 8. 0. 1. 6.\n",
            " 0. 6. 3. 0. 6. 0. 4. 6. 9. 6. 5. 4. 9. 3. 9. 6. 5. 0. 9. 0. 6. 3. 0. 5.\n",
            " 9. 1. 0. 9. 1. 0. 3. 4. 6. 4. 2. 9. 6. 6. 3. 1. 9. 5. 9. 0. 5. 7. 0. 6.\n",
            " 6. 0. 7. 4. 5. 1. 5. 2. 0. 9. 5. 0. 9. 7. 4. 9. 5. 9. 2. 2. 8. 3. 5. 9.\n",
            " 8. 2. 8. 1. 7. 6. 9. 5. 1. 5. 1. 7. 3. 3. 4. 5. 2. 9. 7. 7. 5. 4. 8. 4.]\n"
          ],
          "name": "stdout"
        }
      ]
    },
    {
      "cell_type": "code",
      "metadata": {
        "id": "_NLBHPmyTApe"
      },
      "source": [
        "comparision=pd.DataFrame(np.c_[predict_data,y_test])"
      ],
      "execution_count": 33,
      "outputs": []
    },
    {
      "cell_type": "code",
      "metadata": {
        "colab": {
          "base_uri": "https://localhost:8080/"
        },
        "id": "frVsuYInTQXQ",
        "outputId": "037d1697-aaea-473a-e844-925a854f4938"
      },
      "source": [
        "print(comparision)"
      ],
      "execution_count": 34,
      "outputs": [
        {
          "output_type": "stream",
          "text": [
            "       0    1\n",
            "0    4.0  4.0\n",
            "1    3.0  3.0\n",
            "2    6.0  6.0\n",
            "3    4.0  4.0\n",
            "4    8.0  8.0\n",
            "..   ...  ...\n",
            "355  7.0  7.0\n",
            "356  5.0  5.0\n",
            "357  4.0  4.0\n",
            "358  8.0  8.0\n",
            "359  4.0  4.0\n",
            "\n",
            "[360 rows x 2 columns]\n"
          ],
          "name": "stdout"
        }
      ]
    }
  ]
}